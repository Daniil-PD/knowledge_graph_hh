{
 "cells": [
  {
   "cell_type": "code",
   "execution_count": 146,
   "metadata": {},
   "outputs": [],
   "source": [
    "import pandas as pd\n",
    "import networkx as nx \n",
    "from pprint import pprint\n",
    "from tqdm.auto import tqdm\n",
    "import matplotlib.pyplot as plt\n",
    "import re\n",
    "import numpy as np\n",
    "import math\n",
    "from pyvis.network import Network\n",
    "\n",
    "pd.options.display.max_columns = 50"
   ]
  },
  {
   "cell_type": "markdown",
   "metadata": {},
   "source": [
    "# Загрузка данных\n"
   ]
  },
  {
   "cell_type": "code",
   "execution_count": 81,
   "metadata": {},
   "outputs": [
    {
     "data": {
      "text/html": [
       "<div>\n",
       "<style scoped>\n",
       "    .dataframe tbody tr th:only-of-type {\n",
       "        vertical-align: middle;\n",
       "    }\n",
       "\n",
       "    .dataframe tbody tr th {\n",
       "        vertical-align: top;\n",
       "    }\n",
       "\n",
       "    .dataframe thead th {\n",
       "        text-align: right;\n",
       "    }\n",
       "</style>\n",
       "<table border=\"1\" class=\"dataframe\">\n",
       "  <thead>\n",
       "    <tr style=\"text-align: right;\">\n",
       "      <th></th>\n",
       "      <th>id</th>\n",
       "      <th>description</th>\n",
       "      <th>key_skills</th>\n",
       "      <th>schedule_id</th>\n",
       "      <th>schedule_name</th>\n",
       "      <th>accept_handicapped</th>\n",
       "      <th>accept_kids</th>\n",
       "      <th>experience_id</th>\n",
       "      <th>experience_name</th>\n",
       "      <th>specializations</th>\n",
       "      <th>...</th>\n",
       "      <th>address_lng</th>\n",
       "      <th>alternate_url</th>\n",
       "      <th>apply_alternate_url</th>\n",
       "      <th>code</th>\n",
       "      <th>department_id</th>\n",
       "      <th>department_name</th>\n",
       "      <th>employment_id</th>\n",
       "      <th>employment_name</th>\n",
       "      <th>prof_classes_found</th>\n",
       "      <th>terms_found</th>\n",
       "    </tr>\n",
       "  </thead>\n",
       "  <tbody>\n",
       "    <tr>\n",
       "      <th>0</th>\n",
       "      <td>16260123</td>\n",
       "      <td>&lt;p&gt;Современная и амбициозная российская компан...</td>\n",
       "      <td>UML\\nUse Case Analysis\\nнаписание технических ...</td>\n",
       "      <td>fullDay</td>\n",
       "      <td>Полный день</td>\n",
       "      <td>False</td>\n",
       "      <td>False</td>\n",
       "      <td>between1And3</td>\n",
       "      <td>От 1 года до 3 лет</td>\n",
       "      <td>1.221 Программирование, Разработка 1 Информаци...</td>\n",
       "      <td>...</td>\n",
       "      <td>NaN</td>\n",
       "      <td>https://hh.ru/vacancy/16260123</td>\n",
       "      <td>https://hh.ru/applicant/vacancy_response?vacan...</td>\n",
       "      <td>NaN</td>\n",
       "      <td>NaN</td>\n",
       "      <td>NaN</td>\n",
       "      <td>full</td>\n",
       "      <td>Полная занятость</td>\n",
       "      <td>analyst</td>\n",
       "      <td>техническое_образование конкурентная_зарплата ...</td>\n",
       "    </tr>\n",
       "    <tr>\n",
       "      <th>1</th>\n",
       "      <td>16260126</td>\n",
       "      <td>&lt;p&gt;&lt;em&gt;&lt;strong&gt;Развивающаяся компания, успешно...</td>\n",
       "      <td>Активные продажи\\nХолодные продажи\\nВедение пе...</td>\n",
       "      <td>fullDay</td>\n",
       "      <td>Полный день</td>\n",
       "      <td>False</td>\n",
       "      <td>False</td>\n",
       "      <td>between3And6</td>\n",
       "      <td>От 3 до 6 лет</td>\n",
       "      <td>1.225 Продажи 1 Информационные технологии, инт...</td>\n",
       "      <td>...</td>\n",
       "      <td>NaN</td>\n",
       "      <td>https://hh.ru/vacancy/16260126</td>\n",
       "      <td>https://hh.ru/applicant/vacancy_response?vacan...</td>\n",
       "      <td>NaN</td>\n",
       "      <td>NaN</td>\n",
       "      <td>NaN</td>\n",
       "      <td>full</td>\n",
       "      <td>Полная занятость</td>\n",
       "      <td>support</td>\n",
       "      <td>кофе team коммуникативные_навыки crm мониторин...</td>\n",
       "    </tr>\n",
       "    <tr>\n",
       "      <th>2</th>\n",
       "      <td>16260127</td>\n",
       "      <td>&lt;p&gt;&lt;strong&gt;Требования:&lt;/strong&gt;&lt;/p&gt; &lt;p&gt;1.Продв...</td>\n",
       "      <td>NaN</td>\n",
       "      <td>flexible</td>\n",
       "      <td>Гибкий график</td>\n",
       "      <td>True</td>\n",
       "      <td>False</td>\n",
       "      <td>noExperience</td>\n",
       "      <td>Нет опыта</td>\n",
       "      <td>1.172 Начальный уровень, Мало опыта 1 Информац...</td>\n",
       "      <td>...</td>\n",
       "      <td>NaN</td>\n",
       "      <td>https://hh.ru/vacancy/16260127</td>\n",
       "      <td>https://hh.ru/applicant/vacancy_response?vacan...</td>\n",
       "      <td>NaN</td>\n",
       "      <td>NaN</td>\n",
       "      <td>NaN</td>\n",
       "      <td>part</td>\n",
       "      <td>Частичная занятость</td>\n",
       "      <td>manager</td>\n",
       "      <td>гибкий_график желание_работать ms_excel официа...</td>\n",
       "    </tr>\n",
       "  </tbody>\n",
       "</table>\n",
       "<p>3 rows × 56 columns</p>\n",
       "</div>"
      ],
      "text/plain": [
       "         id                                        description  \\\n",
       "0  16260123  <p>Современная и амбициозная российская компан...   \n",
       "1  16260126  <p><em><strong>Развивающаяся компания, успешно...   \n",
       "2  16260127  <p><strong>Требования:</strong></p> <p>1.Продв...   \n",
       "\n",
       "                                          key_skills schedule_id  \\\n",
       "0  UML\\nUse Case Analysis\\nнаписание технических ...     fullDay   \n",
       "1  Активные продажи\\nХолодные продажи\\nВедение пе...     fullDay   \n",
       "2                                                NaN    flexible   \n",
       "\n",
       "   schedule_name  accept_handicapped  accept_kids experience_id  \\\n",
       "0    Полный день               False        False  between1And3   \n",
       "1    Полный день               False        False  between3And6   \n",
       "2  Гибкий график                True        False  noExperience   \n",
       "\n",
       "      experience_name                                    specializations  ...  \\\n",
       "0  От 1 года до 3 лет  1.221 Программирование, Разработка 1 Информаци...  ...   \n",
       "1       От 3 до 6 лет  1.225 Продажи 1 Информационные технологии, инт...  ...   \n",
       "2           Нет опыта  1.172 Начальный уровень, Мало опыта 1 Информац...  ...   \n",
       "\n",
       "   address_lng                   alternate_url  \\\n",
       "0          NaN  https://hh.ru/vacancy/16260123   \n",
       "1          NaN  https://hh.ru/vacancy/16260126   \n",
       "2          NaN  https://hh.ru/vacancy/16260127   \n",
       "\n",
       "                                 apply_alternate_url  code  department_id  \\\n",
       "0  https://hh.ru/applicant/vacancy_response?vacan...   NaN            NaN   \n",
       "1  https://hh.ru/applicant/vacancy_response?vacan...   NaN            NaN   \n",
       "2  https://hh.ru/applicant/vacancy_response?vacan...   NaN            NaN   \n",
       "\n",
       "   department_name  employment_id      employment_name prof_classes_found  \\\n",
       "0              NaN           full     Полная занятость            analyst   \n",
       "1              NaN           full     Полная занятость            support   \n",
       "2              NaN           part  Частичная занятость            manager   \n",
       "\n",
       "                                         terms_found  \n",
       "0  техническое_образование конкурентная_зарплата ...  \n",
       "1  кофе team коммуникативные_навыки crm мониторин...  \n",
       "2  гибкий_график желание_работать ms_excel официа...  \n",
       "\n",
       "[3 rows x 56 columns]"
      ]
     },
     "metadata": {},
     "output_type": "display_data"
    },
    {
     "data": {
      "text/plain": [
       "(332460, 56)"
      ]
     },
     "metadata": {},
     "output_type": "display_data"
    }
   ],
   "source": [
    "df_raw = pd.read_csv(r\"D:\\hh_2006-2020\\vacancies_2016.csv\")\n",
    "display(df_raw.head(3))\n",
    "display(df_raw.shape)"
   ]
  },
  {
   "cell_type": "code",
   "execution_count": 103,
   "metadata": {},
   "outputs": [
    {
     "name": "stdout",
     "output_type": "stream",
     "text": [
      "id\n",
      "employer_id\n"
     ]
    }
   ],
   "source": [
    "for col in [\"id\", \"employer_id\"]:\n",
    "    print(col)\n",
    "    df_raw[col] = df_raw[col].astype(\"Int64\")"
   ]
  },
  {
   "cell_type": "markdown",
   "metadata": {},
   "source": [
    "# Осмотр"
   ]
  },
  {
   "cell_type": "code",
   "execution_count": 106,
   "metadata": {},
   "outputs": [
    {
     "data": {
      "text/plain": [
       "111                                           104-069\n",
       "112                                           104-069\n",
       "113                                           104-069\n",
       "226       Skype: rgkwork Mail: s.nagorny@rgkgroup.com\n",
       "291                                       Можаев А.С.\n",
       "                             ...                     \n",
       "331934                                          D-130\n",
       "331993                                       IRC36363\n",
       "332018                                          D-131\n",
       "332107                                        ПРОДАЖИ\n",
       "332425                                  инженер связи\n",
       "Name: code, Length: 4562, dtype: object"
      ]
     },
     "execution_count": 106,
     "metadata": {},
     "output_type": "execute_result"
    }
   ],
   "source": [
    "df_raw[\"code\"][df_raw[\"code\"].notna()]"
   ]
  },
  {
   "cell_type": "code",
   "execution_count": 6,
   "metadata": {},
   "outputs": [
    {
     "name": "stdout",
     "output_type": "stream",
     "text": [
      "<class 'pandas.core.frame.DataFrame'>\n",
      "RangeIndex: 332460 entries, 0 to 332459\n",
      "Data columns (total 56 columns):\n",
      " #   Column                     Non-Null Count   Dtype  \n",
      "---  ------                     --------------   -----  \n",
      " 0   id                         332460 non-null  int64  \n",
      " 1   description                332460 non-null  object \n",
      " 2   key_skills                 81745 non-null   object \n",
      " 3   schedule_id                332460 non-null  object \n",
      " 4   schedule_name              332460 non-null  object \n",
      " 5   accept_handicapped         332460 non-null  bool   \n",
      " 6   accept_kids                332460 non-null  bool   \n",
      " 7   experience_id              332460 non-null  object \n",
      " 8   experience_name            332460 non-null  object \n",
      " 9   specializations            332460 non-null  object \n",
      " 10  contacts                   0 non-null       float64\n",
      " 11  billing_type_id            332460 non-null  object \n",
      " 12  billing_type_name          332460 non-null  object \n",
      " 13  allow_messages             332460 non-null  bool   \n",
      " 14  premium                    332460 non-null  bool   \n",
      " 15  driver_license_types       0 non-null       float64\n",
      " 16  accept_incomplete_resumes  332460 non-null  bool   \n",
      " 17  employer_id                331766 non-null  float64\n",
      " 18  employer_name              332460 non-null  object \n",
      " 19  employer_vacancies_url     331766 non-null  object \n",
      " 20  employer_trusted           331766 non-null  object \n",
      " 21  employer_alternate_url     331766 non-null  object \n",
      " 22  employer_industries        288800 non-null  object \n",
      " 23  response_letter_required   332460 non-null  bool   \n",
      " 24  type_id                    332460 non-null  object \n",
      " 25  type_name                  332460 non-null  object \n",
      " 26  has_test                   332460 non-null  bool   \n",
      " 27  response_url               513 non-null     object \n",
      " 28  test_required              0 non-null       float64\n",
      " 29  salary_from                165429 non-null  float64\n",
      " 30  salary_to                  97742 non-null   float64\n",
      " 31  salary_gross               0 non-null       float64\n",
      " 32  salary_currency            177431 non-null  object \n",
      " 33  archived                   332460 non-null  bool   \n",
      " 34  name                       332460 non-null  object \n",
      " 35  insider_interview          99 non-null      object \n",
      " 36  area_id                    332460 non-null  int64  \n",
      " 37  area_name                  332460 non-null  object \n",
      " 38  area_url                   332460 non-null  object \n",
      " 39  created_at                 332460 non-null  object \n",
      " 40  published_at               332460 non-null  object \n",
      " 41  address_city               119434 non-null  object \n",
      " 42  address_street             116775 non-null  object \n",
      " 43  address_building           111493 non-null  object \n",
      " 44  address_description        0 non-null       float64\n",
      " 45  address_lat                121329 non-null  float64\n",
      " 46  address_lng                121329 non-null  float64\n",
      " 47  alternate_url              332460 non-null  object \n",
      " 48  apply_alternate_url        332460 non-null  object \n",
      " 49  code                       4562 non-null    object \n",
      " 50  department_id              8552 non-null    object \n",
      " 51  department_name            8552 non-null    object \n",
      " 52  employment_id              332460 non-null  object \n",
      " 53  employment_name            332460 non-null  object \n",
      " 54  prof_classes_found         326727 non-null  object \n",
      " 55  terms_found                329573 non-null  object \n",
      "dtypes: bool(8), float64(10), int64(2), object(36)\n",
      "memory usage: 124.3+ MB\n"
     ]
    }
   ],
   "source": [
    "df_raw.info(verbose=True)"
   ]
  },
  {
   "cell_type": "code",
   "execution_count": 15,
   "metadata": {},
   "outputs": [
    {
     "name": "stdout",
     "output_type": "stream",
     "text": [
      "id \t\t\t\t 332460\n",
      "description \t\t\t 230806\n",
      "key_skills \t\t\t 42173\n",
      "schedule_id \t\t\t 5 ['fullDay' 'flexible' 'remote' 'shift' 'flyInFlyOut']\n",
      "schedule_name \t\t\t 5 ['Полный день' 'Гибкий график' 'Удаленная работа' 'Сменный график'\n",
      " 'Вахтовый метод']\n",
      "accept_handicapped \t\t 2 [False  True]\n",
      "accept_kids \t\t\t 1 [False]\n",
      "experience_id \t\t\t 4 ['between1And3' 'between3And6' 'noExperience' 'moreThan6']\n",
      "experience_name \t\t 4 ['От 1 года до 3 лет' 'От 3 до 6 лет' 'Нет опыта' 'Более 6 лет']\n",
      "specializations \t\t 60875\n",
      "contacts \t\t\t 1 [nan]\n",
      "billing_type_id \t\t 3 ['standard' 'free' 'standard_plus']\n",
      "billing_type_name \t\t 3 ['Стандарт' 'Бесплатная' 'Стандарт плюс']\n",
      "allow_messages \t\t\t 2 [ True False]\n",
      "premium \t\t\t 1 [False]\n",
      "driver_license_types \t\t 1 [nan]\n",
      "accept_incomplete_resumes \t 2 [False  True]\n",
      "employer_id \t\t\t 41521\n",
      "employer_name \t\t\t 40912\n",
      "employer_vacancies_url \t\t 41521\n",
      "employer_trusted \t\t 3 [True False nan]\n",
      "employer_alternate_url \t\t 41521\n",
      "employer_industries \t\t 6963\n",
      "response_letter_required \t 2 [False  True]\n",
      "type_id \t\t\t 3 ['open' 'direct' 'anonymous']\n",
      "type_name \t\t\t 3 ['Открытая' 'Рекламная' 'Анонимная']\n",
      "has_test \t\t\t 1 [False]\n",
      "response_url \t\t\t 211\n",
      "test_required \t\t\t 1 [nan]\n",
      "salary_from \t\t\t 1130\n",
      "salary_to \t\t\t 971\n",
      "salary_gross \t\t\t 1 [nan]\n",
      "salary_currency \t\t 11 [nan 'RUR' 'BYR' 'UAH' 'USD' 'KZT' 'EUR' 'AZN' 'UZS' 'KGS' 'GEL']\n",
      "archived \t\t\t 1 [ True]\n",
      "name \t\t\t\t 92470\n",
      "insider_interview \t\t 4 [nan\n",
      " \"{'id': '18140', 'url': 'https://hh.ru/interview/18140?employerId=38322'}\"\n",
      " \"{'id': '19719', 'url': 'https://hh.ru/interview/19719?employerId=3809'}\"\n",
      " \"{'id': '8229', 'url': 'https://hh.ru/interview/8229?employerId=15092'}\"]\n",
      "area_id \t\t\t 2144\n",
      "area_name \t\t\t 2145\n",
      "area_url \t\t\t 2144\n",
      "created_at \t\t\t 285317\n",
      "published_at \t\t\t 285317\n",
      "address_city \t\t\t 1147\n",
      "address_street \t\t\t 7390\n",
      "address_building \t\t 4333\n",
      "address_description \t\t 1 [nan]\n",
      "address_lat \t\t\t 20810\n",
      "address_lng \t\t\t 20816\n",
      "alternate_url \t\t\t 332460\n",
      "apply_alternate_url \t\t 332460\n",
      "code \t\t\t\t 2760\n",
      "department_id \t\t\t 144\n",
      "department_name \t\t 148\n",
      "employment_id \t\t\t 5 ['full' 'part' 'project' 'probation' 'volunteer']\n",
      "employment_name \t\t 5 ['Полная занятость' 'Частичная занятость' 'Проектная работа' 'Стажировка'\n",
      " 'Волонтерство']\n",
      "prof_classes_found \t\t 706\n",
      "terms_found \t\t\t 171934\n"
     ]
    }
   ],
   "source": [
    "l_column_smoll_unique = []\n",
    "for col in df_raw.columns:\n",
    "    unique = df_raw[col].unique()\n",
    "    if len(unique) < 20:\n",
    "        print(col, \"\\t\"*(4-((len(col)+1)//8)), len(unique), unique)\n",
    "    else:\n",
    "        print(col, \"\\t\"*(4-((len(col)+1)//8)), len(unique))\n",
    "\n"
   ]
  },
  {
   "cell_type": "code",
   "execution_count": null,
   "metadata": {},
   "outputs": [],
   "source": []
  },
  {
   "cell_type": "markdown",
   "metadata": {},
   "source": [
    "# Постройка графа"
   ]
  },
  {
   "cell_type": "markdown",
   "metadata": {},
   "source": [
    "Нода вакансия:\n",
    "id \t\t\t\t 332460\n",
    "name \t\t\t\t 92470\n",
    "description \t\t\t 230806\n",
    "key_skills \t\t\t 42173 #TODO: возможно в отдельные ноды\n",
    "schedule_id \t\t\t 5 ['fullDay' 'flexible' 'remote' 'shift' 'flyInFlyOut']\n",
    "schedule_name \t\t\t 5 ['Полный день' 'Гибкий график' 'Удаленная работа' 'Сменный график' 'Вахтовый метод']\n",
    "accept_handicapped \t\t 2 [False  True]\n",
    "accept_kids \t\t\t 1 [False]\n",
    "experience_id \t\t\t 4 ['between1And3' 'between3And6' 'noExperience' 'moreThan6']\n",
    "contacts \t\t\t 1 [nan]\n",
    "billing_type_id \t\t 3 ['standard' 'free' 'standard_plus']\n",
    "allow_messages \t\t\t 2 [ True False]\n",
    "premium \t\t\t 1 [False]\n",
    "driver_license_types \t\t 1 [nan]\n",
    "accept_incomplete_resumes \t 2 [False  True]\n",
    "response_letter_required \t 2 [False  True]\n",
    "type_id \t\t\t 3 ['open' 'direct' 'anonymous']\n",
    "salary_from \t\t\t 1130\n",
    "salary_to \t\t\t 971\n",
    "salary_gross \t\t\t 1 [nan]\n",
    "salary_currency \t\t 11 [nan 'RUR' 'BYR' 'UAH' 'USD' 'KZT' 'EUR' 'AZN' 'UZS' 'KGS' 'GEL']\n",
    "created_at \t\t\t 285317\n",
    "published_at \t\t\t 285317\n",
    "employment_id \t\t\t 5 ['full' 'part' 'project' 'probation' 'volunteer']\n",
    "\n",
    "\n",
    "Нода Работодателя:\n",
    "employer_id \t\t\t 41521\n",
    "employer_name \t\t\t 40912\n",
    "employer_trusted \t\t 3 [True False nan]\n",
    "\n",
    "\n",
    "Нода специализации:\n",
    "specializations(list) \t\t 60875\n",
    "\n",
    "Нода Индустрия\n",
    "employer_industries(list) \t\t 6963\n",
    "\n",
    "Нода область\n",
    "area_id \t\t\t 2144\n",
    "area_name \t\t\t 2145\n",
    "\n",
    "Нода адреса\n",
    "address_city \t\t\t 1147\n",
    "address_street \t\t\t 7390\n",
    "address_building \t\t 4333\n",
    "address_description \t\t 1 [nan]\n",
    "address_lat \t\t\t 20810\n",
    "address_lng \t\t\t 20816\n",
    "\n",
    "Нода департамента:\n",
    "department_id \t\t\t 144\n",
    "department_name \t\t 148\n",
    "\n",
    "Нода проф классов\n",
    "prof_classes_found \t\t 706\n",
    "\n",
    "Нода найденных определений\n",
    "terms_found \t\t\t 171934\n"
   ]
  },
  {
   "cell_type": "markdown",
   "metadata": {},
   "source": [
    "## Подготовка списков"
   ]
  },
  {
   "cell_type": "markdown",
   "metadata": {},
   "source": [
    "### Список вакансий"
   ]
  },
  {
   "cell_type": "code",
   "execution_count": 117,
   "metadata": {},
   "outputs": [],
   "source": [
    "df_nodes_vacancies = df_raw.loc[:,[\"id\", \"name\", \"description\", \"key_skills\", \n",
    "                                   \"schedule_id\", \"schedule_name\", \"accept_handicapped\", \n",
    "                                   \"accept_kids\", \"experience_id\", \"contacts\", \"billing_type_id\", \n",
    "                                   \"allow_messages\", \"premium\", \"driver_license_types\", \n",
    "                                   \"accept_incomplete_resumes\", \"response_letter_required\", \n",
    "                                   \"type_id\", \"salary_from\", \"salary_to\", \"salary_gross\", \n",
    "                                   \"salary_currency\", \"created_at\", \"published_at\", \"employment_id\"]]\n",
    "df_nodes_vacancies = df_nodes_vacancies.rename({\"name\":\"label\"}, axis=\"columns\")\n",
    "df_nodes_vacancies = df_nodes_vacancies.set_index(\"id\")"
   ]
  },
  {
   "cell_type": "markdown",
   "metadata": {},
   "source": [
    "### Список работодателей"
   ]
  },
  {
   "cell_type": "code",
   "execution_count": 118,
   "metadata": {},
   "outputs": [],
   "source": [
    "df_nodes_employer = df_raw.loc[:,[\"employer_id\", \"employer_name\", \"employer_trusted\", \"employer_industries\"]]\\\n",
    "    .drop_duplicates([\"employer_id\"]) # TODO: Короче, ничто не уникально! \n",
    "df_nodes_employer = df_nodes_employer.set_index(\"employer_id\")"
   ]
  },
  {
   "cell_type": "code",
   "execution_count": 147,
   "metadata": {},
   "outputs": [
    {
     "data": {
      "text/html": [
       "<div>\n",
       "<style scoped>\n",
       "    .dataframe tbody tr th:only-of-type {\n",
       "        vertical-align: middle;\n",
       "    }\n",
       "\n",
       "    .dataframe tbody tr th {\n",
       "        vertical-align: top;\n",
       "    }\n",
       "\n",
       "    .dataframe thead th {\n",
       "        text-align: right;\n",
       "    }\n",
       "</style>\n",
       "<table border=\"1\" class=\"dataframe\">\n",
       "  <thead>\n",
       "    <tr style=\"text-align: right;\">\n",
       "      <th></th>\n",
       "      <th>sours</th>\n",
       "      <th>target</th>\n",
       "    </tr>\n",
       "  </thead>\n",
       "  <tbody>\n",
       "    <tr>\n",
       "      <th>0</th>\n",
       "      <td>16260123</td>\n",
       "      <td>707239</td>\n",
       "    </tr>\n",
       "    <tr>\n",
       "      <th>1</th>\n",
       "      <td>16260126</td>\n",
       "      <td>1391634</td>\n",
       "    </tr>\n",
       "    <tr>\n",
       "      <th>2</th>\n",
       "      <td>16260127</td>\n",
       "      <td>2139835</td>\n",
       "    </tr>\n",
       "    <tr>\n",
       "      <th>3</th>\n",
       "      <td>16260130</td>\n",
       "      <td>2139835</td>\n",
       "    </tr>\n",
       "    <tr>\n",
       "      <th>4</th>\n",
       "      <td>16260135</td>\n",
       "      <td>2139835</td>\n",
       "    </tr>\n",
       "    <tr>\n",
       "      <th>...</th>\n",
       "      <td>...</td>\n",
       "      <td>...</td>\n",
       "    </tr>\n",
       "    <tr>\n",
       "      <th>332455</th>\n",
       "      <td>16029968</td>\n",
       "      <td>1901832</td>\n",
       "    </tr>\n",
       "    <tr>\n",
       "      <th>332456</th>\n",
       "      <td>16029976</td>\n",
       "      <td>649011</td>\n",
       "    </tr>\n",
       "    <tr>\n",
       "      <th>332457</th>\n",
       "      <td>16029981</td>\n",
       "      <td>1936811</td>\n",
       "    </tr>\n",
       "    <tr>\n",
       "      <th>332458</th>\n",
       "      <td>16029984</td>\n",
       "      <td>2206</td>\n",
       "    </tr>\n",
       "    <tr>\n",
       "      <th>332459</th>\n",
       "      <td>16029994</td>\n",
       "      <td>69650</td>\n",
       "    </tr>\n",
       "  </tbody>\n",
       "</table>\n",
       "<p>332460 rows × 2 columns</p>\n",
       "</div>"
      ],
      "text/plain": [
       "           sours   target\n",
       "0       16260123   707239\n",
       "1       16260126  1391634\n",
       "2       16260127  2139835\n",
       "3       16260130  2139835\n",
       "4       16260135  2139835\n",
       "...          ...      ...\n",
       "332455  16029968  1901832\n",
       "332456  16029976   649011\n",
       "332457  16029981  1936811\n",
       "332458  16029984     2206\n",
       "332459  16029994    69650\n",
       "\n",
       "[332460 rows x 2 columns]"
      ]
     },
     "execution_count": 147,
     "metadata": {},
     "output_type": "execute_result"
    }
   ],
   "source": [
    "df_edges_employer = df_raw.loc[:,[\"id\", \"employer_id\"]].rename({\"id\":\"sours\", \"employer_id\":\"target\"},axis=1)\n",
    "df_edges_employer"
   ]
  },
  {
   "cell_type": "markdown",
   "metadata": {},
   "source": [
    "### Список специализаций"
   ]
  },
  {
   "cell_type": "code",
   "execution_count": 133,
   "metadata": {},
   "outputs": [],
   "source": [
    "df_nodes_specializations = df_raw.loc[:,[\"specializations\"]]\n",
    "df_nodes_specializations[\"specializations\"] = df_nodes_specializations[\"specializations\"].str.split(\"\\n\")\n",
    "df_nodes_specializations = df_nodes_specializations.explode(\"specializations\")\n",
    "df_nodes_specializations = df_nodes_specializations.drop_duplicates().set_index(\"specializations\")\n"
   ]
  },
  {
   "cell_type": "markdown",
   "metadata": {},
   "source": [
    "### Список индустрий"
   ]
  },
  {
   "cell_type": "code",
   "execution_count": 143,
   "metadata": {},
   "outputs": [],
   "source": [
    "df_nodes_employer_industries = df_raw.loc[:,[\"employer_industries\"]].drop_duplicates()\n",
    "df_nodes_employer_industries[\"employer_industries\"] = df_nodes_employer_industries[\"employer_industries\"].str.split(\"\\n\")\n",
    "df_nodes_employer_industries = df_nodes_employer_industries.explode(\"employer_industries\")\n",
    "df_nodes_employer_industries = df_nodes_employer_industries.drop_duplicates().set_index(\"employer_industries\")"
   ]
  },
  {
   "cell_type": "markdown",
   "metadata": {},
   "source": [
    "### Список областей"
   ]
  },
  {
   "cell_type": "code",
   "execution_count": 145,
   "metadata": {},
   "outputs": [],
   "source": [
    "df_nodes_employer_industries = df_raw.loc[:,[\"area_id\", \"area_name\"]].drop_duplicates().set_index(\"area_id\")"
   ]
  },
  {
   "cell_type": "markdown",
   "metadata": {},
   "source": [
    "### Список адресов"
   ]
  },
  {
   "cell_type": "code",
   "execution_count": null,
   "metadata": {},
   "outputs": [],
   "source": []
  },
  {
   "cell_type": "markdown",
   "metadata": {},
   "source": [
    "### Список департамента"
   ]
  },
  {
   "cell_type": "markdown",
   "metadata": {},
   "source": [
    "### Список профессиональных областей"
   ]
  },
  {
   "cell_type": "markdown",
   "metadata": {},
   "source": [
    "### Список найденных определений"
   ]
  },
  {
   "cell_type": "markdown",
   "metadata": {},
   "source": [
    "# Загрузка данных\n"
   ]
  }
 ],
 "metadata": {
  "kernelspec": {
   "display_name": "venv",
   "language": "python",
   "name": "python3"
  },
  "language_info": {
   "codemirror_mode": {
    "name": "ipython",
    "version": 3
   },
   "file_extension": ".py",
   "mimetype": "text/x-python",
   "name": "python",
   "nbconvert_exporter": "python",
   "pygments_lexer": "ipython3",
   "version": "3.10.7"
  }
 },
 "nbformat": 4,
 "nbformat_minor": 2
}
